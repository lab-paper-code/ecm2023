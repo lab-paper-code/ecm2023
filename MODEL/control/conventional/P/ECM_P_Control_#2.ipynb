{
 "cells": [
  {
   "cell_type": "code",
   "execution_count": 1,
   "id": "a78be8a0",
   "metadata": {},
   "outputs": [],
   "source": [
    "from sklearn.model_selection import train_test_split\n",
    "from xgboost import XGBRegressor, XGBRFRegressor\n",
    "from sklearn.ensemble import ExtraTreesRegressor\n",
    "from sklearn.linear_model import LinearRegression\n",
    "from lineartree import LinearTreeRegressor\n",
    "from sklearn.svm import LinearSVR\n",
    "from sklearn import neighbors\n",
    "from sklearn.multioutput import MultiOutputRegressor\n",
    "from sklearn.metrics import *\n",
    "import joblib\n",
    "from collections import defaultdict\n",
    "from scipy.interpolate import interp1d\n",
    "from matplotlib import pyplot as plt\n",
    "import pandas as pd\n",
    "import numpy as np\n",
    "import warnings\n",
    "from scipy import signal\n",
    "import datetime\n",
    "import csv\n",
    "import os\n",
    "\n",
    "\n",
    "from IPython.display import clear_output\n",
    "\n",
    "import datetime\n",
    "warnings.filterwarnings(action='ignore')\n"
   ]
  },
  {
   "cell_type": "code",
   "execution_count": 2,
   "id": "f94c277f",
   "metadata": {},
   "outputs": [],
   "source": [
    "# 파일 호출하기\n",
    "\n",
    "#    0: '0', # 전원 OFF\n",
    "#    1: '1', # 송풍모드\n",
    "#    2: '2', # 가온모드\n",
    "#    3: '3', # 송풍+제습\n",
    "#    4: '4', # 냉각\n",
    "#    5: '5', # 냉각+제습\n",
    "#    6: '6', # 가온+제습(사용 안함)\n",
    "\n",
    "df = pd.read_feather('ecm_input.ftr')"
   ]
  },
  {
   "cell_type": "code",
   "execution_count": 3,
   "id": "2ba519fe",
   "metadata": {
    "scrolled": true
   },
   "outputs": [
    {
     "data": {
      "text/html": [
       "<div>\n",
       "<style scoped>\n",
       "    .dataframe tbody tr th:only-of-type {\n",
       "        vertical-align: middle;\n",
       "    }\n",
       "\n",
       "    .dataframe tbody tr th {\n",
       "        vertical-align: top;\n",
       "    }\n",
       "\n",
       "    .dataframe thead th {\n",
       "        text-align: right;\n",
       "    }\n",
       "</style>\n",
       "<table border=\"1\" class=\"dataframe\">\n",
       "  <thead>\n",
       "    <tr style=\"text-align: right;\">\n",
       "      <th></th>\n",
       "      <th>f3_temp</th>\n",
       "      <th>f10_temp</th>\n",
       "      <th>extemp</th>\n",
       "      <th>entemp</th>\n",
       "      <th>running</th>\n",
       "    </tr>\n",
       "    <tr>\n",
       "      <th>timestamp_min</th>\n",
       "      <th></th>\n",
       "      <th></th>\n",
       "      <th></th>\n",
       "      <th></th>\n",
       "      <th></th>\n",
       "    </tr>\n",
       "  </thead>\n",
       "  <tbody>\n",
       "    <tr>\n",
       "      <th>2019-08-21 16:37:00</th>\n",
       "      <td>25.47</td>\n",
       "      <td>26.77</td>\n",
       "      <td>27.3</td>\n",
       "      <td>29.2</td>\n",
       "      <td>1</td>\n",
       "    </tr>\n",
       "    <tr>\n",
       "      <th>2019-08-21 16:38:00</th>\n",
       "      <td>25.47</td>\n",
       "      <td>26.77</td>\n",
       "      <td>27.1</td>\n",
       "      <td>29.2</td>\n",
       "      <td>1</td>\n",
       "    </tr>\n",
       "    <tr>\n",
       "      <th>2019-08-21 16:39:00</th>\n",
       "      <td>25.50</td>\n",
       "      <td>26.77</td>\n",
       "      <td>27.3</td>\n",
       "      <td>29.2</td>\n",
       "      <td>1</td>\n",
       "    </tr>\n",
       "    <tr>\n",
       "      <th>2019-08-21 16:40:00</th>\n",
       "      <td>25.60</td>\n",
       "      <td>26.77</td>\n",
       "      <td>27.5</td>\n",
       "      <td>29.2</td>\n",
       "      <td>1</td>\n",
       "    </tr>\n",
       "    <tr>\n",
       "      <th>2019-08-21 16:41:00</th>\n",
       "      <td>25.60</td>\n",
       "      <td>26.77</td>\n",
       "      <td>27.3</td>\n",
       "      <td>29.2</td>\n",
       "      <td>1</td>\n",
       "    </tr>\n",
       "    <tr>\n",
       "      <th>...</th>\n",
       "      <td>...</td>\n",
       "      <td>...</td>\n",
       "      <td>...</td>\n",
       "      <td>...</td>\n",
       "      <td>...</td>\n",
       "    </tr>\n",
       "    <tr>\n",
       "      <th>2019-10-24 23:55:00</th>\n",
       "      <td>23.62</td>\n",
       "      <td>22.32</td>\n",
       "      <td>20.8</td>\n",
       "      <td>19.9</td>\n",
       "      <td>0</td>\n",
       "    </tr>\n",
       "    <tr>\n",
       "      <th>2019-10-24 23:56:00</th>\n",
       "      <td>23.62</td>\n",
       "      <td>22.42</td>\n",
       "      <td>20.8</td>\n",
       "      <td>19.9</td>\n",
       "      <td>0</td>\n",
       "    </tr>\n",
       "    <tr>\n",
       "      <th>2019-10-24 23:57:00</th>\n",
       "      <td>23.62</td>\n",
       "      <td>22.42</td>\n",
       "      <td>20.8</td>\n",
       "      <td>19.9</td>\n",
       "      <td>0</td>\n",
       "    </tr>\n",
       "    <tr>\n",
       "      <th>2019-10-24 23:58:00</th>\n",
       "      <td>23.62</td>\n",
       "      <td>22.42</td>\n",
       "      <td>20.8</td>\n",
       "      <td>19.9</td>\n",
       "      <td>0</td>\n",
       "    </tr>\n",
       "    <tr>\n",
       "      <th>2019-10-24 23:59:00</th>\n",
       "      <td>23.62</td>\n",
       "      <td>22.42</td>\n",
       "      <td>20.8</td>\n",
       "      <td>19.9</td>\n",
       "      <td>0</td>\n",
       "    </tr>\n",
       "  </tbody>\n",
       "</table>\n",
       "<p>91652 rows × 5 columns</p>\n",
       "</div>"
      ],
      "text/plain": [
       "                     f3_temp  f10_temp  extemp  entemp  running\n",
       "timestamp_min                                                  \n",
       "2019-08-21 16:37:00    25.47     26.77    27.3    29.2        1\n",
       "2019-08-21 16:38:00    25.47     26.77    27.1    29.2        1\n",
       "2019-08-21 16:39:00    25.50     26.77    27.3    29.2        1\n",
       "2019-08-21 16:40:00    25.60     26.77    27.5    29.2        1\n",
       "2019-08-21 16:41:00    25.60     26.77    27.3    29.2        1\n",
       "...                      ...       ...     ...     ...      ...\n",
       "2019-10-24 23:55:00    23.62     22.32    20.8    19.9        0\n",
       "2019-10-24 23:56:00    23.62     22.42    20.8    19.9        0\n",
       "2019-10-24 23:57:00    23.62     22.42    20.8    19.9        0\n",
       "2019-10-24 23:58:00    23.62     22.42    20.8    19.9        0\n",
       "2019-10-24 23:59:00    23.62     22.42    20.8    19.9        0\n",
       "\n",
       "[91652 rows x 5 columns]"
      ]
     },
     "execution_count": 3,
     "metadata": {},
     "output_type": "execute_result"
    }
   ],
   "source": [
    "col_list = [\n",
    "    'f3_temp',\n",
    "    'f10_temp','extemp',\n",
    "    'entemp',\n",
    "    'F_SET_MODE_0'\n",
    "]\n",
    "\n",
    "df_datetime = df['timestamp_min']\n",
    "df_pre = df[col_list]\n",
    "df_pre.index = df_datetime\n",
    "\n",
    "df_pre['running'] = 1\n",
    "df_pre['running'].loc[df_pre['F_SET_MODE_0'] == 1] = 0\n",
    "\n",
    "df_pre.drop(['F_SET_MODE_0'],axis = 'columns', inplace = True)\n",
    "df_pre"
   ]
  },
  {
   "cell_type": "code",
   "execution_count": 4,
   "id": "ed8d71a5",
   "metadata": {},
   "outputs": [
    {
     "name": "stdout",
     "output_type": "stream",
     "text": [
      "MPC_LR_Coef_.joblib 에 ML 모델이 저장되었습니다.\n"
     ]
    }
   ],
   "source": [
    "# Linear Regressor 모델 생성\n",
    "\n",
    "#train 시작과 종료 일자\n",
    "start_date = datetime.date(2019,10,1)\n",
    "end_date = datetime.date(2019,10,25)\n",
    "\n",
    "df_train = df_pre[((pd.to_datetime(df_pre.index).date) >= (start_date)) & \n",
    "           ((pd.to_datetime(df_pre.index).date) < (end_date))]\n",
    "\n",
    "# 모델 학습\n",
    "Shift_Target = 10 # 10분 뒤에 학습함\n",
    "model = MultiOutputRegressor(LinearRegression())\n",
    "model.fit(df_train[:-Shift_Target], df_train[Shift_Target:]) # 학습 시 일부데이터는 학습 하지 않음\n",
    "\n",
    "# 모델 저장\n",
    "filename = \"MPC_LR_Coef_.joblib\"\n",
    "joblib.dump(model, filename)\n",
    "print(f\"{filename} 에 ML 모델이 저장되었습니다.\")\n"
   ]
  },
  {
   "cell_type": "code",
   "execution_count": 5,
   "id": "8823e5e6",
   "metadata": {},
   "outputs": [],
   "source": [
    "# LR 모델 불려오는 경우\n",
    "path = 'MPC_LR_Coef_.joblib'\n",
    "lr_model = joblib.load(path)"
   ]
  },
  {
   "cell_type": "code",
   "execution_count": 6,
   "id": "ea596d84",
   "metadata": {},
   "outputs": [],
   "source": [
    "def sigmoid(x):\n",
    "    return 1.0 / (1.0 + np.exp(-x))"
   ]
  },
  {
   "cell_type": "code",
   "execution_count": 7,
   "id": "2dbfc893",
   "metadata": {},
   "outputs": [
    {
     "name": "stdout",
     "output_type": "stream",
     "text": [
      "2019-10-01\n",
      "2019-10-02\n",
      "2019-10-03\n",
      "2019-10-04\n",
      "2019-10-05\n",
      "2019-10-06\n",
      "2019-10-07\n",
      "2019-10-08\n",
      "2019-10-09\n",
      "2019-10-10\n",
      "2019-10-11\n",
      "2019-10-12\n",
      "2019-10-13\n",
      "2019-10-14\n",
      "2019-10-15\n",
      "2019-10-16\n",
      "2019-10-17\n",
      "2019-10-18\n",
      "2019-10-19\n",
      "2019-10-20\n",
      "2019-10-21\n",
      "2019-10-22\n",
      "2019-10-23\n",
      "2019-10-24\n"
     ]
    }
   ],
   "source": [
    "# 테스트 date 생성\n",
    "# 우선 주석 처리함 - 하루 만 테스트 하기 위함\n",
    "start_date = datetime.date(2019,10,1)\n",
    "end_date = datetime.date(2019,10,25) # 11월 14일 테스트\n",
    "\n",
    "# 날짜 array 생성\n",
    "if (end_date-start_date).days == 0:\n",
    "    end_date = start_date + datetime.timedelta(days=1)\n",
    "\n",
    "Train_date_list = [start_date + datetime.timedelta(days=x) for x in range(0, (end_date-start_date).days)]\n",
    "\n",
    "# PID Gain setting\n",
    "# 1차 테스트 게인 P, I, D = 1e-5, 1e-8, 0.001(PID Control)\n",
    "# P Gain : 0.1e-13 - 10월 1일 ~ 11월 14일 - 전부다 이거로 P 게인 진행함 \n",
    "P, I, D = 0.1e-13, 0, 0\n",
    "ref_temp = 25.0\n",
    "\n",
    "df_total = pd.DataFrame()\n",
    "\n",
    "save_time = datetime.datetime.today().strftime('%Y%m%d%H%M%S')\n",
    "save_file_path = f\"PID_result_{save_time}.csv\"\n",
    "\n",
    "for i in range(0, len(Train_date_list)):\n",
    "    \n",
    "    # clear output\n",
    "    # clear_output(wait=True)\n",
    "    \n",
    "    Train_date = Train_date_list[i]\n",
    "    print(Train_date)\n",
    "    df_test_pre = df_pre[(pd.to_datetime(df_pre.index).date) == (Train_date)]\n",
    "    \n",
    "    # PID 계산 초기화\n",
    "    integral = 0.\n",
    "    derivative = 0.\n",
    "    prev_error = 0.\n",
    "    \n",
    "    # 초기화\n",
    "    x0=df_test_pre.iloc[0].to_numpy()\n",
    "    # Dataframe\n",
    "    PID_result = pd.DataFrame()\n",
    "    \n",
    "    for k in range(0, len(df_test_pre)-1):\n",
    "        #f3_temp, f10_temp,extemp,running,entemp\n",
    "        # print(k, end = ' ')\n",
    "        # PID 계산\n",
    "        error = x0[0] - ref_temp #desired state\n",
    "            \n",
    "        integral += error\n",
    "        derivative = error - prev_error\n",
    "        prev_error = error\n",
    "\n",
    "        pid = P*error + I*integral + D*derivative\n",
    "        #print(str(error) + str(\"  \") + str(pid))\n",
    "        u0 = sigmoid(pid)\n",
    "        u0 = np.round(u0).astype(np.int32)\n",
    "    \n",
    "        pre_x0 = pd.DataFrame([{\n",
    "            'f3_temp': x0[0],\n",
    "            'f10_temp': x0[1],\n",
    "            'exttemp' : x0[2],\n",
    "            'entemp' : df_test_pre['entemp'][k],\n",
    "            'running' : u0,\n",
    "        }])\n",
    "        \n",
    "        x0_output = model.predict(pre_x0)\n",
    "        x0 = np.array(x0_output[0][0:3])\n",
    "        \n",
    "        PID_result = pd.concat([PID_result,pre_x0], ignore_index=True)\n",
    "\n",
    "    # 내용 저장\n",
    "    # 실제 운영된 것과 \n",
    "    df_result = pd.DataFrame()\n",
    "    df_result['timestamp'] = df_test_pre.index\n",
    "    df_result['actural_x'] = pd.DataFrame(df_test_pre['f3_temp'].to_numpy())\n",
    "    df_result['running'] = pd.DataFrame(df_test_pre['running'].to_numpy())\n",
    "    df_result['pid_x'] = pd.DataFrame(PID_result['f3_temp'].to_numpy())\n",
    "    df_result['pid_u'] = pd.DataFrame(PID_result['running'].to_numpy())\n",
    "    \n",
    "    df_total = pd.concat([df_total, df_result], ignore_index=None)\n",
    "    \n",
    "df_total.to_csv(save_file_path)\n",
    "\n",
    "save_config = pd.DataFrame([{\n",
    "            'datetime': save_time,\n",
    "            'stardate': start_date,\n",
    "            'enddate': end_date,\n",
    "            'p': P,\n",
    "            'i' : I,\n",
    "            'd' : D\n",
    "        }])\n",
    "\n",
    "save_config = save_config.to_csv(\"save_config.csv\", mode = 'a')"
   ]
  },
  {
   "cell_type": "code",
   "execution_count": 8,
   "id": "4eee4a35",
   "metadata": {},
   "outputs": [
    {
     "name": "stdout",
     "output_type": "stream",
     "text": [
      "41.475215942080936\n"
     ]
    },
    {
     "data": {
      "text/plain": [
       "[<matplotlib.lines.Line2D at 0x1b9b5308460>]"
      ]
     },
     "execution_count": 8,
     "metadata": {},
     "output_type": "execute_result"
    },
    {
     "data": {
      "image/png": "[encoded data removed]",
      "text/plain": [
       "<Figure size 432x288 with 1 Axes>"
      ]
     },
     "metadata": {
      "needs_background": "light"
     },
     "output_type": "display_data"
    }
   ],
   "source": [
    "print((1-df_total['pid_u'].sum()/df_total['running'].sum().sum())*100)\n",
    "plt.plot(df_total['timestamp'],df_total['running'])\n",
    "plt.plot(df_total['timestamp'],df_total['pid_u'])"
   ]
  },
  {
   "cell_type": "code",
   "execution_count": 9,
   "id": "febac282",
   "metadata": {},
   "outputs": [
    {
     "data": {
      "text/plain": [
       "[<matplotlib.lines.Line2D at 0x1b9b31eb4c0>]"
      ]
     },
     "execution_count": 9,
     "metadata": {},
     "output_type": "execute_result"
    },
    {
     "data": {
      "image/png": "[encoded data removed]",
      "text/plain": [
       "<Figure size 432x288 with 1 Axes>"
      ]
     },
     "metadata": {
      "needs_background": "light"
     },
     "output_type": "display_data"
    }
   ],
   "source": [
    "plt.plot(df_total['timestamp'],df_total['actural_x'])\n",
    "plt.plot(df_total['timestamp'],df_total['pid_x'])"
   ]
  },
  {
   "cell_type": "code",
   "execution_count": null,
   "id": "aed302ff",
   "metadata": {},
   "outputs": [],
   "source": []
  }
 ],
 "metadata": {
  "kernelspec": {
   "display_name": "ecm",
   "language": "python",
   "name": "ecm"
  },
  "language_info": {
   "codemirror_mode": {
    "name": "ipython",
    "version": 3
   },
   "file_extension": ".py",
   "mimetype": "text/x-python",
   "name": "python",
   "nbconvert_exporter": "python",
   "pygments_lexer": "ipython3",
   "version": "3.9.7"
  }
 },
 "nbformat": 4,
 "nbformat_minor": 5
}
